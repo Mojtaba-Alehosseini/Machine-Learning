{
 "cells": [
  {
   "cell_type": "markdown",
   "metadata": {
    "id": "eYwLs5joJfJN"
   },
   "source": []
  },
  {
   "cell_type": "markdown",
   "metadata": {
    "id": "TMAvgHx6JfJm"
   },
   "source": []
  },
  {
   "cell_type": "markdown",
   "metadata": {
    "id": "CfgmDl7JJfJn"
   },
   "source": [
    "\n"
   ]
  },
  {
   "cell_type": "markdown",
   "metadata": {
    "id": "fQFbVbtpJfJn"
   },
   "source": [
    "# Introduction\n",
    "\n",
    "* In this homework you are going to apply supervised learning: Linear Regression method using Scikit-learn package; Scikit-learn (formerly scikits.learn and also known as sklearn) is a free software machine learning library for the Python programming language. It features various classification, regression and clustering algorithms including support vector machines, random forests, gradient boosting, k-means and DBSCAN, and is designed to interoperate with the Python numerical and scientific libraries NumPy and SciPy [https://en.wikipedia.org/wiki/Scikit-learn].\n",
    "\n",
    "### The homework is divided into four sections and the points are distributed as below:\n",
    "<pre>\n",
    "- Linear Regression    -> 2 points\n",
    "- PCA                  -> 2 points\n",
    "- Overfitting          -> 5 points\n",
    "_________________________________________\n",
    "Total                  -> 9 points\n",
    "</pre>"
   ]
  },
  {
   "cell_type": "markdown",
   "metadata": {
    "id": "p1wszlIpJfJo"
   },
   "source": [
    "# 1. Regression \n",
    "## 1.1 Linear Regression (2 points)\n",
    "\n",
    "We are going to use the Prices dataset that contains 74 columns. Each column represents a feature of houses for sale. The ```SalePrice``` column  shows their prices. "
   ]
  },
  {
   "cell_type": "code",
   "execution_count": null,
   "metadata": {
    "colab": {
     "base_uri": "https://localhost:8080/"
    },
    "id": "qidamLnMJfJo",
    "outputId": "e18bb5ca-1505-4ef4-e49f-e2cde4d0db2c"
   },
   "outputs": [
    {
     "data": {
      "text/plain": [
       "Index(['MSSubClass', 'MSZoning', 'LotFrontage', 'LotArea', 'Street',\n",
       "       'LotShape', 'LandContour', 'Utilities', 'LotConfig', 'LandSlope',\n",
       "       'Neighborhood', 'Condition1', 'Condition2', 'BldgType', 'HouseStyle',\n",
       "       'OverallQual', 'OverallCond', 'YearBuilt', 'YearRemodAdd', 'RoofStyle',\n",
       "       'RoofMatl', 'Exterior1st', 'Exterior2nd', 'MasVnrType', 'MasVnrArea',\n",
       "       'ExterQual', 'ExterCond', 'Foundation', 'BsmtQual', 'BsmtCond',\n",
       "       'BsmtExposure', 'BsmtFinType1', 'BsmtFinSF1', 'BsmtFinType2',\n",
       "       'BsmtFinSF2', 'BsmtUnfSF', 'TotalBsmtSF', 'Heating', 'HeatingQC',\n",
       "       'CentralAir', 'Electrical', '1stFlrSF', '2ndFlrSF', 'LowQualFinSF',\n",
       "       'GrLivArea', 'BsmtFullBath', 'BsmtHalfBath', 'FullBath', 'HalfBath',\n",
       "       'BedroomAbvGr', 'KitchenAbvGr', 'KitchenQual', 'TotRmsAbvGrd',\n",
       "       'Functional', 'Fireplaces', 'GarageType', 'GarageYrBlt', 'GarageFinish',\n",
       "       'GarageCars', 'GarageArea', 'GarageQual', 'GarageCond', 'PavedDrive',\n",
       "       'WoodDeckSF', 'OpenPorchSF', 'EnclosedPorch', '3SsnPorch',\n",
       "       'ScreenPorch', 'PoolArea', 'MiscVal', 'MoSold', 'YrSold', 'SaleType',\n",
       "       'SaleCondition', 'SalePrice'],\n",
       "      dtype='object')"
      ]
     },
     "execution_count": 1,
     "metadata": {},
     "output_type": "execute_result"
    }
   ],
   "source": [
    "import pandas as pd\n",
    "data = pd.read_csv(\"Prices.csv\")\n",
    "data.columns"
   ]
  },
  {
   "cell_type": "markdown",
   "metadata": {
    "id": "L5dxc_JaJfJq"
   },
   "source": [
    "The column names are self-explanatory which indicates features of each house."
   ]
  },
  {
   "cell_type": "markdown",
   "metadata": {
    "id": "Xt1Kln3rJfJq"
   },
   "source": [
    "**1.1.1. The target label is```SalePrice``` which means, later we will predict the sale-price based on the given features (columns). But for regression task, it is important to ensure that the data is not skewed. In order to do that, please plot the distribution of ```SalePrice``` column and explain what do you see. (0.2 point)**"
   ]
  },
  {
   "cell_type": "code",
   "execution_count": null,
   "metadata": {
    "colab": {
     "base_uri": "https://localhost:8080/",
     "height": 317
    },
    "id": "IJbRJKE8JfJq",
    "outputId": "09065320-3c54-4d4c-e2c8-ca7b6d3c19b4"
   },
   "outputs": [
    {
     "data": {
      "text/plain": [
       "array([[<matplotlib.axes._subplots.AxesSubplot object at 0x7f963119bfd0>]],\n",
       "      dtype=object)"
      ]
     },
     "execution_count": 2,
     "metadata": {},
     "output_type": "execute_result"
    },
    {
     "data": {
      "image/png": "[encoded data removed]",
      "text/plain": [
       "<Figure size 432x288 with 1 Axes>"
      ]
     },
     "metadata": {
      "needs_background": "light"
     },
     "output_type": "display_data"
    }
   ],
   "source": [
    "\n",
    "\n",
    "data.hist(\"SalePrice\")"
   ]
  },
  {
   "cell_type": "markdown",
   "metadata": {
    "id": "UthxdZLyJfJq"
   },
   "source": [
    "**<font color='red'>Answer:</font>** "
   ]
  },
  {
   "cell_type": "markdown",
   "metadata": {
    "id": "jCEjKtlJJfJr"
   },
   "source": [
    "So, the data seems to be skewed which has to be fixed otherwise it may lead to erronous result. \n",
    "Apart from that, look closely, some columns are not numerical. For those, you have to convert them to numerical value or represent them in a way so that the algorithm can understand the data. One of such way is called, one hot encoding. Along with that, the algorithm cannot deal with NaN or Infinite values. So please address all of these in the preprocessing section. \n",
    "\n",
    "- Preprocess for skewed data\n",
    "- Apply one-hot encoding to categorical data types\n",
    "- Replace negative infinite values with 0"
   ]
  },
  {
   "cell_type": "markdown",
   "metadata": {
    "id": "I1s3u1LLJfJr"
   },
   "source": [
    "**1.1.2. After preprocessing the skewed data, plot ```SalePrice``` column distribution again. (0.05 point)**"
   ]
  },
  {
   "cell_type": "code",
   "execution_count": null,
   "metadata": {
    "colab": {
     "base_uri": "https://localhost:8080/",
     "height": 708
    },
    "id": "hl0qQwwdJfJs",
    "outputId": "7af43982-fc2e-4fcb-d852-8b0ee61246d3"
   },
   "outputs": [
    {
     "name": "stdout",
     "output_type": "stream",
     "text": [
      "1.880940746034036\n",
      "0.1212103673013655\n"
     ]
    },
    {
     "data": {
      "text/html": [
       "\n",
       "  <div id=\"df-d9335cfb-f598-42a3-8621-21df29b67487\">\n",
       "    <div class=\"colab-df-container\">\n",
       "      <div>\n",
       "<style scoped>\n",
       "    .dataframe tbody tr th:only-of-type {\n",
       "        vertical-align: middle;\n",
       "    }\n",
       "\n",
       "    .dataframe tbody tr th {\n",
       "        vertical-align: top;\n",
       "    }\n",
       "\n",
       "    .dataframe thead th {\n",
       "        text-align: right;\n",
       "    }\n",
       "</style>\n",
       "<table border=\"1\" class=\"dataframe\">\n",
       "  <thead>\n",
       "    <tr style=\"text-align: right;\">\n",
       "      <th></th>\n",
       "      <th>GarageArea</th>\n",
       "      <th>WoodDeckSF</th>\n",
       "      <th>OpenPorchSF</th>\n",
       "      <th>EnclosedPorch</th>\n",
       "      <th>3SsnPorch</th>\n",
       "      <th>ScreenPorch</th>\n",
       "      <th>PoolArea</th>\n",
       "      <th>MiscVal</th>\n",
       "      <th>MoSold</th>\n",
       "      <th>YrSold</th>\n",
       "    </tr>\n",
       "  </thead>\n",
       "  <tbody>\n",
       "    <tr>\n",
       "      <th>0</th>\n",
       "      <td>548</td>\n",
       "      <td>0</td>\n",
       "      <td>61</td>\n",
       "      <td>0</td>\n",
       "      <td>0</td>\n",
       "      <td>0</td>\n",
       "      <td>0</td>\n",
       "      <td>0</td>\n",
       "      <td>2</td>\n",
       "      <td>2008</td>\n",
       "    </tr>\n",
       "    <tr>\n",
       "      <th>1</th>\n",
       "      <td>460</td>\n",
       "      <td>298</td>\n",
       "      <td>0</td>\n",
       "      <td>0</td>\n",
       "      <td>0</td>\n",
       "      <td>0</td>\n",
       "      <td>0</td>\n",
       "      <td>0</td>\n",
       "      <td>5</td>\n",
       "      <td>2007</td>\n",
       "    </tr>\n",
       "    <tr>\n",
       "      <th>2</th>\n",
       "      <td>608</td>\n",
       "      <td>0</td>\n",
       "      <td>42</td>\n",
       "      <td>0</td>\n",
       "      <td>0</td>\n",
       "      <td>0</td>\n",
       "      <td>0</td>\n",
       "      <td>0</td>\n",
       "      <td>9</td>\n",
       "      <td>2008</td>\n",
       "    </tr>\n",
       "    <tr>\n",
       "      <th>3</th>\n",
       "      <td>642</td>\n",
       "      <td>0</td>\n",
       "      <td>35</td>\n",
       "      <td>272</td>\n",
       "      <td>0</td>\n",
       "      <td>0</td>\n",
       "      <td>0</td>\n",
       "      <td>0</td>\n",
       "      <td>2</td>\n",
       "      <td>2006</td>\n",
       "    </tr>\n",
       "    <tr>\n",
       "      <th>4</th>\n",
       "      <td>836</td>\n",
       "      <td>192</td>\n",
       "      <td>84</td>\n",
       "      <td>0</td>\n",
       "      <td>0</td>\n",
       "      <td>0</td>\n",
       "      <td>0</td>\n",
       "      <td>0</td>\n",
       "      <td>12</td>\n",
       "      <td>2008</td>\n",
       "    </tr>\n",
       "    <tr>\n",
       "      <th>...</th>\n",
       "      <td>...</td>\n",
       "      <td>...</td>\n",
       "      <td>...</td>\n",
       "      <td>...</td>\n",
       "      <td>...</td>\n",
       "      <td>...</td>\n",
       "      <td>...</td>\n",
       "      <td>...</td>\n",
       "      <td>...</td>\n",
       "      <td>...</td>\n",
       "    </tr>\n",
       "    <tr>\n",
       "      <th>1455</th>\n",
       "      <td>460</td>\n",
       "      <td>0</td>\n",
       "      <td>40</td>\n",
       "      <td>0</td>\n",
       "      <td>0</td>\n",
       "      <td>0</td>\n",
       "      <td>0</td>\n",
       "      <td>0</td>\n",
       "      <td>8</td>\n",
       "      <td>2007</td>\n",
       "    </tr>\n",
       "    <tr>\n",
       "      <th>1456</th>\n",
       "      <td>500</td>\n",
       "      <td>349</td>\n",
       "      <td>0</td>\n",
       "      <td>0</td>\n",
       "      <td>0</td>\n",
       "      <td>0</td>\n",
       "      <td>0</td>\n",
       "      <td>0</td>\n",
       "      <td>2</td>\n",
       "      <td>2010</td>\n",
       "    </tr>\n",
       "    <tr>\n",
       "      <th>1457</th>\n",
       "      <td>252</td>\n",
       "      <td>0</td>\n",
       "      <td>60</td>\n",
       "      <td>0</td>\n",
       "      <td>0</td>\n",
       "      <td>0</td>\n",
       "      <td>0</td>\n",
       "      <td>2500</td>\n",
       "      <td>5</td>\n",
       "      <td>2010</td>\n",
       "    </tr>\n",
       "    <tr>\n",
       "      <th>1458</th>\n",
       "      <td>240</td>\n",
       "      <td>366</td>\n",
       "      <td>0</td>\n",
       "      <td>112</td>\n",
       "      <td>0</td>\n",
       "      <td>0</td>\n",
       "      <td>0</td>\n",
       "      <td>0</td>\n",
       "      <td>4</td>\n",
       "      <td>2010</td>\n",
       "    </tr>\n",
       "    <tr>\n",
       "      <th>1459</th>\n",
       "      <td>276</td>\n",
       "      <td>736</td>\n",
       "      <td>68</td>\n",
       "      <td>0</td>\n",
       "      <td>0</td>\n",
       "      <td>0</td>\n",
       "      <td>0</td>\n",
       "      <td>0</td>\n",
       "      <td>6</td>\n",
       "      <td>2008</td>\n",
       "    </tr>\n",
       "  </tbody>\n",
       "</table>\n",
       "<p>1460 rows × 10 columns</p>\n",
       "</div>\n",
       "      <button class=\"colab-df-convert\" onclick=\"convertToInteractive('df-d9335cfb-f598-42a3-8621-21df29b67487')\"\n",
       "              title=\"Convert this dataframe to an interactive table.\"\n",
       "              style=\"display:none;\">\n",
       "        \n",
       "  <svg xmlns=\"http://www.w3.org/2000/svg\" height=\"24px\"viewBox=\"0 0 24 24\"\n",
       "       width=\"24px\">\n",
       "    <path d=\"M0 0h24v24H0V0z\" fill=\"none\"/>\n",
       "    <path d=\"M18.56 5.44l.94 2.06.94-2.06 2.06-.94-2.06-.94-.94-2.06-.94 2.06-2.06.94zm-11 1L8.5 8.5l.94-2.06 2.06-.94-2.06-.94L8.5 2.5l-.94 2.06-2.06.94zm10 10l.94 2.06.94-2.06 2.06-.94-2.06-.94-.94-2.06-.94 2.06-2.06.94z\"/><path d=\"M17.41 7.96l-1.37-1.37c-.4-.4-.92-.59-1.43-.59-.52 0-1.04.2-1.43.59L10.3 9.45l-7.72 7.72c-.78.78-.78 2.05 0 2.83L4 21.41c.39.39.9.59 1.41.59.51 0 1.02-.2 1.41-.59l7.78-7.78 2.81-2.81c.8-.78.8-2.07 0-2.86zM5.41 20L4 18.59l7.72-7.72 1.47 1.35L5.41 20z\"/>\n",
       "  </svg>\n",
       "      </button>\n",
       "      \n",
       "  <style>\n",
       "    .colab-df-container {\n",
       "      display:flex;\n",
       "      flex-wrap:wrap;\n",
       "      gap: 12px;\n",
       "    }\n",
       "\n",
       "    .colab-df-convert {\n",
       "      background-color: #E8F0FE;\n",
       "      border: none;\n",
       "      border-radius: 50%;\n",
       "      cursor: pointer;\n",
       "      display: none;\n",
       "      fill: #1967D2;\n",
       "      height: 32px;\n",
       "      padding: 0 0 0 0;\n",
       "      width: 32px;\n",
       "    }\n",
       "\n",
       "    .colab-df-convert:hover {\n",
       "      background-color: #E2EBFA;\n",
       "      box-shadow: 0px 1px 2px rgba(60, 64, 67, 0.3), 0px 1px 3px 1px rgba(60, 64, 67, 0.15);\n",
       "      fill: #174EA6;\n",
       "    }\n",
       "\n",
       "    [theme=dark] .colab-df-convert {\n",
       "      background-color: #3B4455;\n",
       "      fill: #D2E3FC;\n",
       "    }\n",
       "\n",
       "    [theme=dark] .colab-df-convert:hover {\n",
       "      background-color: #434B5C;\n",
       "      box-shadow: 0px 1px 3px 1px rgba(0, 0, 0, 0.15);\n",
       "      filter: drop-shadow(0px 1px 2px rgba(0, 0, 0, 0.3));\n",
       "      fill: #FFFFFF;\n",
       "    }\n",
       "  </style>\n",
       "\n",
       "      <script>\n",
       "        const buttonEl =\n",
       "          document.querySelector('#df-d9335cfb-f598-42a3-8621-21df29b67487 button.colab-df-convert');\n",
       "        buttonEl.style.display =\n",
       "          google.colab.kernel.accessAllowed ? 'block' : 'none';\n",
       "\n",
       "        async function convertToInteractive(key) {\n",
       "          const element = document.querySelector('#df-d9335cfb-f598-42a3-8621-21df29b67487');\n",
       "          const dataTable =\n",
       "            await google.colab.kernel.invokeFunction('convertToInteractive',\n",
       "                                                     [key], {});\n",
       "          if (!dataTable) return;\n",
       "\n",
       "          const docLinkHtml = 'Like what you see? Visit the ' +\n",
       "            '<a target=\"_blank\" href=https://colab.research.google.com/notebooks/data_table.ipynb>data table notebook</a>'\n",
       "            + ' to learn more about interactive tables.';\n",
       "          element.innerHTML = '';\n",
       "          dataTable['output_type'] = 'display_data';\n",
       "          await google.colab.output.renderOutput(dataTable, element);\n",
       "          const docLink = document.createElement('div');\n",
       "          docLink.innerHTML = docLinkHtml;\n",
       "          element.appendChild(docLink);\n",
       "        }\n",
       "      </script>\n",
       "    </div>\n",
       "  </div>\n",
       "  "
      ],
      "text/plain": [
       "      GarageArea  WoodDeckSF  OpenPorchSF  EnclosedPorch  3SsnPorch  \\\n",
       "0            548           0           61              0          0   \n",
       "1            460         298            0              0          0   \n",
       "2            608           0           42              0          0   \n",
       "3            642           0           35            272          0   \n",
       "4            836         192           84              0          0   \n",
       "...          ...         ...          ...            ...        ...   \n",
       "1455         460           0           40              0          0   \n",
       "1456         500         349            0              0          0   \n",
       "1457         252           0           60              0          0   \n",
       "1458         240         366            0            112          0   \n",
       "1459         276         736           68              0          0   \n",
       "\n",
       "      ScreenPorch  PoolArea  MiscVal  MoSold  YrSold  \n",
       "0               0         0        0       2    2008  \n",
       "1               0         0        0       5    2007  \n",
       "2               0         0        0       9    2008  \n",
       "3               0         0        0       2    2006  \n",
       "4               0         0        0      12    2008  \n",
       "...           ...       ...      ...     ...     ...  \n",
       "1455            0         0        0       8    2007  \n",
       "1456            0         0        0       2    2010  \n",
       "1457            0         0     2500       5    2010  \n",
       "1458            0         0        0       4    2010  \n",
       "1459            0         0        0       6    2008  \n",
       "\n",
       "[1460 rows x 10 columns]"
      ]
     },
     "execution_count": 3,
     "metadata": {},
     "output_type": "execute_result"
    },
    {
     "data": {
      "image/png": "[encoded data removed]",
      "text/plain": [
       "<Figure size 432x288 with 1 Axes>"
      ]
     },
     "metadata": {
      "needs_background": "light"
     },
     "output_type": "display_data"
    }
   ],
   "source": [
    "from scipy.stats import skew\n",
    "\n",
    "import numpy as np\n",
    "\n",
    "new_data=data.copy()\n",
    "\n",
    "print(skew(new_data['SalePrice']))\n",
    "new_data['SalePrice']=np.log(new_data['SalePrice'])\n",
    "print(skew(new_data['SalePrice']))\n",
    "\n",
    "\n",
    "\n",
    "new_data['SalePrice'].hist()\n",
    "\n",
    "\n",
    "bool_columns = new_data.applymap(np.isreal).all()\n",
    "\n",
    "# df.info()\n",
    "columns=new_data.columns\n",
    "\n",
    "\n",
    "# find categorical columns\n",
    "categorical_columns=[]\n",
    "numerical_colunms=[]\n",
    "for i in range(len(columns)):\n",
    "    if bool_columns[i]==False:\n",
    "        categorical_columns.append(columns[i])\n",
    "    if bool_columns[i]==True:\n",
    "        numerical_colunms.append(columns[i])\n",
    "        \n",
    "        \n",
    "numerical_data= new_data[numerical_colunms]       \n",
    "df=pd.get_dummies(new_data[categorical_columns])\n",
    "finaly_numerical_datd=pd.concat([df,numerical_data],axis=1)\n",
    "\n",
    "\n",
    "\n",
    "\n",
    "finaly_numerical_datd[\"SalePrice\"].values\n",
    "finaly_numerical_datd.columns\n",
    "finaly_numerical_datd.iloc[:,260:-1]"
   ]
  },
  {
   "cell_type": "markdown",
   "metadata": {
    "id": "OQPBZ0QWJfJs"
   },
   "source": [
    "**1.1.3. Calculate the correlation between price and each feature. Which are the top 3 features that have the highest correlation with  price? Is the correlation positive or negative? Explain what happens with the price when each of those 3 features change (consider only one feature at a time) and others are kept constant. (0.25 point)** \n",
    "\n"
   ]
  },
  {
   "cell_type": "markdown",
   "metadata": {
    "id": "A59X1K5fJfJs"
   },
   "source": [
    "# "
   ]
  },
  {
   "cell_type": "markdown",
   "metadata": {
    "id": "VMeYdpcJWD6n"
   },
   "source": [
    "### OverallQual    and GrLivArea      and GarageCars     have the hieghest coorelation And theyre value is positive  so both variables change in the same direction."
   ]
  },
  {
   "cell_type": "markdown",
   "metadata": {
    "id": "zLYyFSd-JfJt"
   },
   "source": [
    "<font color='red'> **Answer:**</font>"
   ]
  },
  {
   "cell_type": "markdown",
   "metadata": {
    "id": "0qQzbp4RJfJt"
   },
   "source": [
    "**1.1.4.  Now you have to build a regression model that would be trained on training data and later predict the price on test data. You are free to select features on which you want train the model. The dataset has missing values, so please apply the following methods to deal with the missing data in the features of your choice:**\n",
    "\n",
    "a) mean imputation\n",
    "\n",
    "b) median imputation\n",
    "\n",
    "c) mode imputation\n",
    "\n",
    "d) dropping missing values\n",
    "\n",
    "**Split dataset into the training (80% of the all rows) and test ( 20% of all rows) set, you can use train_test_split function from scikit-learn. While splitting, set the parameter random_state equal to 2, this will reproduce similar split during grading.**\n",
    "\n",
    "**For each of the case report MAE, RMSE and R<sup>2</sup>. Which method works better ?(1.50 points)**\n",
    "\n"
   ]
  },
  {
   "cell_type": "code",
   "execution_count": null,
   "metadata": {
    "colab": {
     "base_uri": "https://localhost:8080/"
    },
    "id": "fq5ab-_bWD6o",
    "outputId": "f2a8b8fe-cdad-4d62-dc0f-de13f6fd4b85"
   },
   "outputs": [
    {
     "name": "stdout",
     "output_type": "stream",
     "text": [
      "Method: mean imputation  MAE: 333.57941436553114  RMSE: 8101701.060500617  R2: -48143529.72043482\n",
      "Method: median imputation  MAE: 26.469332990377644  RMSE: 65414.43290452872  R2: -388717.58349021856\n",
      "Method: mode imputation  MAE: 0.0872152700088956  RMSE: 0.024563542201419892  R2: 0.8540336603701244\n",
      "Method: dropping missing values  MAE: 559.334114494046  RMSE: 17693672.677497484  R2: -120797501.89980614\n"
     ]
    }
   ],
   "source": [
    "from sklearn.model_selection import train_test_split\n",
    "from sklearn.impute import SimpleImputer\n",
    "from sklearn.linear_model import LinearRegression\n",
    "from sklearn.metrics import mean_absolute_error\n",
    "from sklearn.metrics import mean_squared_error\n",
    "from sklearn.metrics import r2_score\n",
    "\n",
    "\n",
    "methods = ['mean imputation', 'median imputation', 'mode imputation', 'dropping missing values']\n",
    "#Store the result in the following variables\n",
    "MAE = []\n",
    "RMSE = []\n",
    "R2 = []\n",
    "#TODO\n",
    "\n",
    "\n",
    "#print the metrics\n",
    "i = 0\n",
    "\n",
    "for m in methods:\n",
    "    dataset=finaly_numerical_datd.copy()\n",
    "    if m ==\"dropping missing values\" :\n",
    "        \n",
    "        dataset.dropna(axis=0,inplace=True,how=\"any\")\n",
    "    elif m==\"mode imputation\" :  \n",
    "        dataset.fillna(df.mode(),inplace=True)\n",
    "        dataset=dataset.replace(np.nan,0)\n",
    "    else:\n",
    "        strategy=m.split(\" \")[0]\n",
    "        imp = SimpleImputer(missing_values=np.nan, strategy=strategy)\n",
    "        dataset=imp.fit_transform(dataset)\n",
    "        \n",
    "        \n",
    "    \n",
    "       \n",
    "    dataset=pd.DataFrame(dataset)    \n",
    "    x=dataset.iloc[:,:-1].values\n",
    "    y=dataset.iloc[:,-1].values\n",
    "    xtrain,xtest,ytrain,ytest=train_test_split(x,y,test_size=0.2,random_state=2)\n",
    "    model=LinearRegression().fit(xtrain,ytrain) \n",
    "   \n",
    "    yhat=model.predict(xtest)\n",
    "    \n",
    "    \n",
    "    MAE.append(mean_absolute_error(ytest,yhat))\n",
    "    RMSE.append(mean_squared_error(ytest,yhat))\n",
    "    R2.append(r2_score(ytest,yhat))\n",
    "    print(\"Method: \" + m + \"  MAE: \" + str(MAE[i]) + \"  RMSE: \" + str(RMSE[i]) + \"  R2: \" + str(R2[i]))\n",
    "    i+=1\n"
   ]
  },
  {
   "cell_type": "code",
   "execution_count": null,
   "metadata": {
    "colab": {
     "base_uri": "https://localhost:8080/"
    },
    "id": "FebwtCaGWD6p",
    "outputId": "43b798d0-6db2-4fe1-ac8f-a67b3067115a"
   },
   "outputs": [
    {
     "name": "stdout",
     "output_type": "stream",
     "text": [
      "[11.79433792 11.6784399  11.74799759 11.85082525 12.25486281 12.73596533\n",
      " 11.78600139 11.92503512 11.7905572  12.23563145 12.93675161 12.90420737\n",
      " 12.31716669 11.87756858 12.87901712 12.07823927 11.79810441 11.81303006\n",
      " 12.01364014 11.9511804 ]\n"
     ]
    },
    {
     "data": {
      "text/plain": [
       "array([11.83, 11.65, 11.73, 11.78, 12.23, 12.74, 11.8 , 11.96, 11.62,\n",
       "       12.18, 12.88, 12.98, 12.28, 11.92, 12.52, 12.  , 11.73, 11.75,\n",
       "       12.15, 12.  ])"
      ]
     },
     "execution_count": 5,
     "metadata": {},
     "output_type": "execute_result"
    }
   ],
   "source": [
    "print(ytest[0:20])\n",
    "yhat[0:20].round(2)\n",
    "# r2_score(ytest[0:75],yhat[0:75].round(0))\n"
   ]
  },
  {
   "cell_type": "markdown",
   "metadata": {
    "id": "di6eU4kRJfJt"
   },
   "source": [
    "<font color='red'> **Answer:**</font>"
   ]
  },
  {
   "cell_type": "markdown",
   "metadata": {
    "id": "O4mCTiasJfJu"
   },
   "source": [
    "**Please store the best MAE, RMSE, r2_best score in the following variables. We will use these variable to compare ```1.2.7```**"
   ]
  },
  {
   "cell_type": "code",
   "execution_count": null,
   "metadata": {
    "id": "XD8eDSFNJfJv"
   },
   "outputs": [],
   "source": [
    "mae_best =  0.09805344882247011  #best MAE\n",
    "rmse_best =0.021131692697953477 #best RMSE\n",
    "r2_best =  0.8744270753781864   #best R2"
   ]
  },
  {
   "cell_type": "markdown",
   "metadata": {
    "id": "qgkUo5YBJfJv"
   },
   "source": [
    "# 1.2 Principal Component Analysis (PCA) (2 points)\n",
    "Our model performs quite good. But there is always room to make it better and simpler. By simpler, we mean the reducing the dimensionality of the dataset so that we can have a simpler linear regression model. <br> <br>If you noticed after one-hot encoding, we have 270 features (columns) but all these features do not hold the same level of information. For example, the first feature may hold 50% of the information required to make the linear regression acheive the performance we already had; the last, (feature number 270) may contribute to only 0.0000001% to the total output. Hence, adding this last variable (actually there could be more) to our linear regression model (read equation) will only increase the complexity of the model; space, time and computational complexity. Therefore, it is wise and desirable to make the model simpler yet performing the best (better). \n",
    "<br> <br>\n",
    "One such way to reduce the dimensionality of the dataset is known as Pricipal Component Analysis. Using this method, we can find out which features contribute the most in our model, therefore, we can wisely select how many we need. We will perform, PCA in this section of the homework. <br><br>\n",
    "\n",
    "*There is another powerful method for dimensionality reduction, named t-SNE. We will use t-sne in future homework. <br><br>*\n",
    "\n"
   ]
  },
  {
   "cell_type": "markdown",
   "metadata": {
    "id": "Gm5DmYT3JfJv"
   },
   "source": [
    "**1.2.1. From ```1.1.4``` keep the best method to deal with missing values and apply PCA to reduce the number of features. (0.5point)**"
   ]
  },
  {
   "cell_type": "code",
   "execution_count": null,
   "metadata": {
    "colab": {
     "base_uri": "https://localhost:8080/"
    },
    "id": "Zy7hzDhHJfJv",
    "outputId": "7eeebf82-322b-4837-99ce-b79598cb7b97"
   },
   "outputs": [
    {
     "data": {
      "text/plain": [
       "(1460, 10)"
      ]
     },
     "execution_count": 7,
     "metadata": {},
     "output_type": "execute_result"
    }
   ],
   "source": [
    "from sklearn.decomposition import PCA\n",
    "dataset=finaly_numerical_datd.copy() \n",
    "imp = SimpleImputer(missing_values=np.nan, strategy=\"mean\")\n",
    "dataset=pd.DataFrame(dataset)  \n",
    "dataset=imp.fit_transform(dataset)\n",
    "dataset=pd.DataFrame(dataset) \n",
    "x=dataset.iloc[:,200:-1].values\n",
    "y=dataset.iloc[:,-10].values\n",
    "pca=PCA(n_components=10).fit(x)\n",
    "x=pca.transform(x)\n",
    "# xtrain,xtest,ytrain,ytest=train_test_split(x,y,test_size=0.2,random_state=5)\n",
    "# model=LinearRegression().fit(xtrain,ytrain)         \n",
    "\n",
    "\n",
    "#TODO: initialize pca, pass, whiten=True, svd_solver='randomized', random_state=0\n",
    "\n",
    "\n",
    "#TODO: fit pc\n",
    "x.shape\n"
   ]
  },
  {
   "cell_type": "markdown",
   "metadata": {
    "id": "Y-w3klggJfJw"
   },
   "source": [
    "**1.2.2. What percentage of the variance is explained by the first five components? (0.10 point)**"
   ]
  },
  {
   "cell_type": "code",
   "execution_count": null,
   "metadata": {
    "colab": {
     "base_uri": "https://localhost:8080/"
    },
    "id": "JVlbjHOxWD6u",
    "outputId": "e6bc0ec0-2feb-4771-e843-2462aac3966e"
   },
   "outputs": [
    {
     "data": {
      "text/plain": [
       "0.9983242895789477"
      ]
     },
     "execution_count": 8,
     "metadata": {},
     "output_type": "execute_result"
    }
   ],
   "source": [
    "sum(pca.explained_variance_ratio_[0:5])"
   ]
  },
  {
   "cell_type": "markdown",
   "metadata": {
    "id": "oQEVP0WjJfJw"
   },
   "source": [
    "<font color='red'> **Answer:**</font>"
   ]
  },
  {
   "cell_type": "markdown",
   "metadata": {
    "id": "J7ELb09LJfJw"
   },
   "source": [
    "It would be helpful if we could see all of the variance against the number of components, so a plot would give us a better understanding of the situation. "
   ]
  },
  {
   "cell_type": "markdown",
   "metadata": {
    "id": "u3FzebW5JfJ2"
   },
   "source": [
    "**1.2.3. Please plot the result of PCA you built in ```1.2.1```<br>\n",
    "X-axis=Number of Components, Y-axis=Total explained variance and explain the result.(0.5 point)**"
   ]
  },
  {
   "cell_type": "code",
   "execution_count": null,
   "metadata": {
    "colab": {
     "base_uri": "https://localhost:8080/",
     "height": 460
    },
    "id": "Irp6UKBbJfJ3",
    "outputId": "2c4ec833-79c1-4f27-e409-a1e4ea948c5e"
   },
   "outputs": [
    {
     "data": {
      "image/png": "[encoded data removed]",
      "text/plain": [
       "<Figure size 720x504 with 1 Axes>"
      ]
     },
     "metadata": {
      "needs_background": "light"
     },
     "output_type": "display_data"
    },
    {
     "data": {
      "text/plain": [
       "[1, 2, 3, 4, 5, 6, 7, 8, 9, 10]"
      ]
     },
     "execution_count": 9,
     "metadata": {},
     "output_type": "execute_result"
    }
   ],
   "source": [
    "import matplotlib.pyplot as plt\n",
    "\n",
    "Number_of_Components=[i for i in range(1,11)]\n",
    "explained_variance=pca.explained_variance_\n",
    "plt.figure(figsize=(10,7))\n",
    "lw=2\n",
    "plt.plot(Number_of_Components,explained_variance, color='k', lw=lw)\n",
    "plt.xlabel('Number of components')\n",
    "plt.ylabel('Total explained variance')\n",
    "    \n",
    "plt.xlim(0, 30)\n",
    "plt.yticks(np.arange(0, 1.1, 0.1))\n",
    "\n",
    "plt.axhline(0.9, c='c')\n",
    "plt.show()\n",
    "Number_of_Components"
   ]
  },
  {
   "cell_type": "markdown",
   "metadata": {
    "id": "WHnlCo-5JfJ3"
   },
   "source": [
    "<font color='red'> **Answer:**</font>"
   ]
  },
  {
   "cell_type": "markdown",
   "metadata": {
    "id": "1_4PB8XRJfJ4"
   },
   "source": [
    "**1.2.5. Again, from ```1.1.4``` keep the best method to deal with missing values and use PCA to reduce the number of features. But you can use only the number of features that are significant in ```1.1.3```, in this case you have to choose an optimum n_component value based on the PCA plot. Otherwise, you can select all of the features and pass the n_components=37. In all cases, keep random_state for PCA equal to 0. (0.20 points)**"
   ]
  },
  {
   "cell_type": "code",
   "execution_count": null,
   "metadata": {
    "colab": {
     "base_uri": "https://localhost:8080/",
     "height": 460
    },
    "id": "T5V5J9lkJfJ4",
    "outputId": "3699c7e0-8cdb-4589-f1ad-46a1cafd9066"
   },
   "outputs": [
    {
     "data": {
      "image/png": "[encoded data removed]",
      "text/plain": [
       "<Figure size 720x504 with 1 Axes>"
      ]
     },
     "metadata": {
      "needs_background": "light"
     },
     "output_type": "display_data"
    },
    {
     "data": {
      "text/plain": [
       "[1, 2, 3]"
      ]
     },
     "execution_count": 10,
     "metadata": {},
     "output_type": "execute_result"
    }
   ],
   "source": [
    "from sklearn.decomposition import PCA\n",
    "dataset=finaly_numerical_datd.copy() \n",
    "imp = SimpleImputer(missing_values=np.nan, strategy=\"mean\")\n",
    "dataset=pd.DataFrame(dataset)  \n",
    "dataset=imp.fit_transform(dataset)\n",
    "dataset=pd.DataFrame(dataset) \n",
    "x=dataset.iloc[:,200:-1].values\n",
    "y=dataset.iloc[:,-10].values\n",
    "pca=PCA(n_components=3).fit(x)\n",
    "x=pca.transform(x)\n",
    "\n",
    "\n",
    "Number_of_Components=[i for i in range(1,4)]\n",
    "explained_variance=pca.explained_variance_\n",
    "plt.figure(figsize=(10,7))\n",
    "lw=2\n",
    "plt.plot(Number_of_Components,explained_variance, color='k', lw=lw)\n",
    "plt.xlabel('Number of components')\n",
    "plt.ylabel('Total explained variance')\n",
    "    \n",
    "plt.xlim(0, 30)\n",
    "plt.yticks(np.arange(0, 1.1, 0.1))\n",
    "\n",
    "plt.axhline(0.9, c='c')\n",
    "plt.show()\n",
    "Number_of_Components"
   ]
  },
  {
   "cell_type": "markdown",
   "metadata": {
    "id": "-ii2fvRuJfJ4"
   },
   "source": [
    "**1.2.6. Use the new components derived from PCA to predict the house prices. Keep the ratio of test and train set to 20/80 and the random_state equal to 0. Report MAE, RMSE and R<sup>2</sup> (0.60 point)** <br>\n",
    "*Hint: Now your training data is different. Please use pca.transform(X) function to create your new training dataset. But make sure you have the fitted pca from ```1.2.5```*"
   ]
  },
  {
   "cell_type": "code",
   "execution_count": null,
   "metadata": {
    "colab": {
     "base_uri": "https://localhost:8080/",
     "height": 135
    },
    "id": "nO8i5zgiJfJ4",
    "outputId": "04f97d7a-bda4-4f94-8160-985d54fa13b6"
   },
   "outputs": [
    {
     "ename": "SyntaxError",
     "evalue": "ignored",
     "output_type": "error",
     "traceback": [
      "\u001b[0;36m  File \u001b[0;32m\"<ipython-input-11-618c3d54819d>\"\u001b[0;36m, line \u001b[0;32m9\u001b[0m\n\u001b[0;31m    X_train_pca, X_test_pca, y_train_pca, y_test_pca = #TODO\u001b[0m\n\u001b[0m                                                            ^\u001b[0m\n\u001b[0;31mSyntaxError\u001b[0m\u001b[0;31m:\u001b[0m invalid syntax\n"
     ]
    }
   ],
   "source": [
    "pca_X = pca.transform(X)\n",
    "\n",
    "\n",
    "methods = ['mean imputation', 'median imputation', 'mode imputation', 'dropping missing values']\n",
    "MAE = []\n",
    "RMSE = []\n",
    "R2 = []\n",
    "    \n",
    "X_train_pca, X_test_pca, y_train_pca, y_test_pca = #TODO\n",
    "\n",
    "regressor = LinearRegression()\n",
    "\n",
    "#TODO: train the regression model\n",
    "\n",
    "y_predicted_pca = #TODO: predict on test dataset\n",
    "\n",
    "mae_pca = #TODO: mean absolute error\n",
    "rmse_pca = #TODO: root mean squared error\n",
    "r2_pca = #TODO: R^2\n",
    "\n",
    "    \n",
    "print(\"MAE: \" + str(mae_pca) + \"  RMSE: \" + str(rmse_pca) + \"  R2: \" + str(r2_pca))\n"
   ]
  },
  {
   "cell_type": "markdown",
   "metadata": {
    "id": "BJ8DEaLyJfJ4"
   },
   "source": [
    "**1.2.7 The following cell would calculate the difference between pre-PCA and post-PCA. Please explain the situation based on the differences. (0.1 point)**"
   ]
  },
  {
   "cell_type": "code",
   "execution_count": null,
   "metadata": {
    "id": "aLFLGYHnJfJ5"
   },
   "outputs": [],
   "source": [
    "print(\"MAE difference after PCA: \", mae_best-mae_pca)\n",
    "print(\"RMSE difference after PCA: \", rmse_best-rmse_pca)\n",
    "print(\"R2 difference after PCA: \", r2_best-r2_pca)"
   ]
  },
  {
   "cell_type": "markdown",
   "metadata": {
    "id": "YTZCW4GEJfJ5"
   },
   "source": [
    "<font color='red'> **Answer:**</font>"
   ]
  },
  {
   "cell_type": "markdown",
   "metadata": {
    "id": "MVj81M_uJfJ5"
   },
   "source": [
    "## 1.3 Overfitting (5 points)\n",
    "\n",
    "Now our model is comparatively better than the earlier models. It is less complex yet performs the almost the same. Let's dive a little deeper into the model now. In this section, we will check if the model is overfitting. The concept of overfitting has already been delivered in the lectures. However, if you are interesed in honing it up, please take a look here or anywhere you understand better: https://datascience.foundation/sciencewhitepaper/underfitting-and-overfitting-in-machine-learning\n",
    "<br>\n",
    "<br>\n",
    "Unfortunately it is difficult to know if a model is overfitting or underfitting. One way to know more about model's performance is cross-validation. Cross-validation is also used in the hyperparameter searching to find the best performing model in a given scenario.  \n",
    "We have a few techniques to prevent overfitting and we will focus on \n",
    "- 1.3.1 Cross-validation \n",
    "    - K-Fold cross-validation: Most common (we would apply this one to see the performance of the Linear regression model)\n",
    "    - Leave One Out (LOO): Takes each row as the validation set for once, and trains the model on the rest n-1 rows. Thus, it trains n number of models.\n",
    "\n",
    "    - Leave P-Out (LPO): Creates possible splits after leaving p samples out. For n rows, there would be (nCp) possibile train-test splits.\n",
    "    - (For classification problems) Stratified K-Fold: Ensures relative class proportion is preserved in each train and validation fold. Important when the class label is imbalanced (e.g. 95% label: 1; 5% label: 0).\n",
    "    \n",
    "    *The last three techniques will be discussed in detail in the Lecture 7.* <br><br>\n",
    "    \n",
    "- 1.3.2 Regularization \n",
    "    - L1 (Lasso)    \n",
    "    - L2 (Ridge)\n",
    "\n"
   ]
  },
  {
   "cell_type": "markdown",
   "metadata": {
    "id": "cgnrzErbJfJ5"
   },
   "source": [
    "**1.3.0. Now we have to check if the trained regression model in ```1.1.4``` is overfitting. Please use R<sup>2</sup> value on train and test result to determine the overfitting. Please explain the result from the perspective of the dataset and the value(0.2 point)**"
   ]
  },
  {
   "cell_type": "code",
   "execution_count": null,
   "metadata": {
    "id": "-U9AhTxCJfJ5"
   },
   "outputs": [],
   "source": []
  },
  {
   "cell_type": "markdown",
   "metadata": {
    "id": "aejhzWfUJfJ6"
   },
   "source": [
    "<font color='red'> **Answer:**</font>"
   ]
  },
  {
   "cell_type": "markdown",
   "metadata": {
    "id": "la1JX3IhJfJ6"
   },
   "source": [
    "**1.3.1 Please apply K-fold=10 fold cross validation on the training dataset of ```1.1.4``` Keep random_state=1, shuffle=True, while performing cross validation, make sure that return_train_score=True.(0.5 point)**\n"
   ]
  },
  {
   "cell_type": "code",
   "execution_count": null,
   "metadata": {
    "id": "7cZsA7alJfJ6"
   },
   "outputs": [],
   "source": [
    "from sklearn.model_selection import KFold\n",
    "from sklearn.model_selection import cross_val_score\n",
    "from numpy import mean\n",
    "from numpy import std\n",
    "\n",
    "cv = KFold(#TODO: pass parameeter)\n",
    "#TODO: create model\n",
    "\n",
    "#TODO: evaluate model using R^2, and MSE as evaluation metrics\n",
    "#While setting MSE metrics, make sure you pass the right keyword \n",
    "\n",
    "\n",
    "# report performance\n",
    "print('R^2: %.3f (%.3f)' % (mean(scores['test_r2']), std(scores['test_r2'])))\n",
    "print('MSE: %.3f (%.3f)' % (mean(scores['test_neg_mean_squared_error']), std(scores['test_neg_mean_squared_error'])))"
   ]
  },
  {
   "cell_type": "markdown",
   "metadata": {
    "id": "TALQSL6JJfJ6"
   },
   "source": [
    "**1.3.1.2. Please plot the training and test R<sup>2</sup> value where X-axis=number of folds, Y-axis=R<sup>2</sup> value. Explain the plot, if the model shows overfitting or not.(0.3 point)**"
   ]
  },
  {
   "cell_type": "code",
   "execution_count": null,
   "metadata": {
    "id": "h6AxRDbsJfJ6"
   },
   "outputs": [],
   "source": [
    "plt.figure(figsize=(16,6))\n",
    "#TODO: plot the trendlines"
   ]
  },
  {
   "cell_type": "markdown",
   "metadata": {
    "id": "Qq62bO4LJfJ6"
   },
   "source": [
    "<font color='red'> **Answer:**</font>"
   ]
  },
  {
   "cell_type": "markdown",
   "metadata": {
    "id": "PRU2r7W0JfJ7"
   },
   "source": [
    "**1.3.2  Please apply L1 (Lasso) regularization with variable alpha parameters and report the corresponding alpha value and R<sup>2</sup> value. Use the training split from ```1.1.4``` (1.5 point)**"
   ]
  },
  {
   "cell_type": "code",
   "execution_count": null,
   "metadata": {
    "id": "JBLdIUk6JfJ7",
    "scrolled": true
   },
   "outputs": [],
   "source": [
    "from sklearn.model_selection import KFold\n",
    "from sklearn.model_selection import cross_val_score\n",
    "from numpy import mean\n",
    "from numpy import std\n",
    "import pandas as pd\n",
    "from sklearn.linear_model import Lasso, Ridge\n",
    "\n",
    "\n",
    "cross_val_scores_lasso = [] \n",
    "  \n",
    "# List to maintain the different values of alpha \n",
    "alpha = [] \n",
    "\n",
    "\n",
    "\n",
    "# Loop to for different alpha value \n",
    "for i in range(1, 9): \n",
    "    #TODO: formulate the lasso model where alpha=i * 0.0001\n",
    "\n",
    "    #TODO: fit the lasso model on whole X, y\n",
    "    #TODO: perform 10 fold cross validation and store the result in score variable\n",
    "    scores = #TODO \n",
    "    avg_cross_val_score = mean(scores)*100\n",
    "    \n",
    "    cross_val_scores_lasso.append(avg_cross_val_score) \n",
    "    alpha.append(i * 0.0001) \n",
    "  \n",
    "# Loop to print the different values of cross-validation scores \n",
    "for i in range(0, len(alpha)): \n",
    "    print(str(alpha[i])+' : '+str(cross_val_scores_lasso[i])) \n",
    "    \n",
    "    \n"
   ]
  },
  {
   "cell_type": "markdown",
   "metadata": {
    "id": "8bfFzmDfJfJ7"
   },
   "source": [
    "**1.3.3. Take the best alpha value from ```1.3.2``` and use it to train a new lasso model and report the  R<sup>2</sup> value on test set. Use the train test split from ```1.1.4```. (0.5 point)**"
   ]
  },
  {
   "cell_type": "code",
   "execution_count": null,
   "metadata": {
    "id": "26ebQVQ6JfJ7"
   },
   "outputs": [],
   "source": [
    "# Building and fitting the Lasso Regression Model \n",
    "from sklearn.model_selection import train_test_split\n",
    "lassoModelBest = Lasso(#TODO: pass the best alpha value) \n",
    "\n",
    "#TODO: Fit the model again \n",
    "  \n",
    "# Evaluating the Lasso Regression model \n",
    "print(lassoModelBest.score(X_test, y_test)) "
   ]
  },
  {
   "cell_type": "markdown",
   "metadata": {
    "id": "CNhJ6cwkJfJ7"
   },
   "source": [
    "**1.3.4.  Please apply L2 (Ridge) regularization with variable alpha parameters and report the corresponding alpha value and R<sup>2</sup> value. Use the training split from ```1.1.4``` (1.5 point)**\n",
    "\n",
    "N.B. The $alpha$ here in the ridge regularization is the same as $lambda$ you saw in the lecture. We did not initiate the variable with $lambda$ because $lambda$ is a reserved keyword in python which is used to create small anonymous functions. A $lambda$ function can take any number of arguments, but can only have one expression.\n",
    "You can read more about it here: https://www.w3schools.com/python/ref_keyword_lambda.asp#:~:text=The%20lambda%20keyword%20is%20used,and%20the%20result%20is%20returned."
   ]
  },
  {
   "cell_type": "code",
   "execution_count": null,
   "metadata": {
    "id": "WQXWz0z4JfJ8"
   },
   "outputs": [],
   "source": [
    "cross_val_scores_ridge = [] \n",
    "  \n",
    "# List to maintain the different values of alpha \n",
    "alpha = [] \n",
    "\n",
    "\n",
    "\n",
    "# Loop to for different alpha value \n",
    "for i in range(1, 9): \n",
    "    #TODO: formulate the ridge model where alpha=i * 0.0001\n",
    "\n",
    "    #TODO: fit the ridge model on whole X, y\n",
    "    #TODO: perform 10 fold cross validation and store the result in score variable\n",
    "    scores = #TODO \n",
    "    avg_cross_val_score = mean(scores)*100\n",
    "    \n",
    "    cross_val_scores_ridge.append(avg_cross_val_score) \n",
    "    alpha.append(i * 0.0001) \n",
    "  \n",
    "# Loop to print the different values of cross-validation scores \n",
    "for i in range(0, len(alpha)): \n",
    "    print(str(alpha[i])+' : '+str(cross_val_scores_ridge[i])) \n",
    "    \n",
    "    \n"
   ]
  },
  {
   "cell_type": "markdown",
   "metadata": {
    "id": "_3k6yZXNJfJ8"
   },
   "source": [
    "**1.3.5. Take the best alpha value from ```1.3.4``` and use it to train a new ridge model and report the  R<sup>2</sup> value on test set. Use the train test split from ```1.1.4```. (0.5 point)**"
   ]
  },
  {
   "cell_type": "code",
   "execution_count": null,
   "metadata": {
    "id": "JB_FtNHeJfJ8"
   },
   "outputs": [],
   "source": [
    "# Building and fitting the Ridge Regression Model \n",
    "from sklearn.model_selection import train_test_split\n",
    "ridgeModelBest = Ridge(#TODO: pass the best alpha value) \n",
    "\n",
    "#TODO: Fit the model again \n",
    "  \n",
    "# Evaluating the ridge Regression model \n",
    "print(ridgeModelBest.score(X_test, y_test)) "
   ]
  },
  {
   "cell_type": "markdown",
   "metadata": {
    "id": "k-5hoCclJfJ8"
   },
   "source": []
  }
 ],
 "metadata": {
  "colab": {
   "collapsed_sections": [],
   "provenance": []
  },
  "kernelspec": {
   "display_name": "Python 3",
   "language": "python",
   "name": "python3"
  },
  "language_info": {
   "codemirror_mode": {
    "name": "ipython",
    "version": 3
   },
   "file_extension": ".py",
   "mimetype": "text/x-python",
   "name": "python",
   "nbconvert_exporter": "python",
   "pygments_lexer": "ipython3",
   "version": "3.8.8"
  }
 },
 "nbformat": 4,
 "nbformat_minor": 1
}
